{
 "cells": [
  {
   "cell_type": "code",
   "execution_count": 1,
   "id": "417fb344",
   "metadata": {},
   "outputs": [
    {
     "name": "stdout",
     "output_type": "stream",
     "text": [
      "Original Data:\n",
      "     age   salary  gender purchased\n",
      "0  25.0  50000.0    Male       Yes\n",
      "1  30.0  60000.0  Female        No\n",
      "2   NaN  52000.0  Female       Yes\n",
      "3  22.0      NaN    Male        No\n",
      "4  28.0  58000.0     NaN       Yes\n",
      "\n",
      "Processed Feature Data (X):\n",
      " [[-0.46106945 -1.35581536  0.          1.        ]\n",
      " [ 1.38320834  1.35581536  1.          0.        ]\n",
      " [ 0.         -0.81348922  1.          0.        ]\n",
      " [-1.56763612  0.          0.          1.        ]\n",
      " [ 0.64549722  0.81348922  1.          0.        ]]\n",
      "\n",
      "Train/Test Split Shapes:\n",
      "X_train: (4, 4)\n",
      "X_test: (1, 4)\n",
      "y_train: (4,)\n",
      "y_test: (1,)\n"
     ]
    }
   ],
   "source": [
    "# Step 1: Import libraries\n",
    "import pandas as pd\n",
    "import numpy as np\n",
    "from sklearn.model_selection import train_test_split\n",
    "from sklearn.preprocessing import StandardScaler, OneHotEncoder\n",
    "from sklearn.impute import SimpleImputer\n",
    "from sklearn.compose import ColumnTransformer\n",
    "from sklearn.pipeline import Pipeline\n",
    "\n",
    "# Step 2: Create a sample dataset\n",
    "data = {\n",
    "    'age': [25, 30, np.nan, 22, 28],\n",
    "    'salary': [50000, 60000, 52000, np.nan, 58000],\n",
    "    'gender': ['Male', 'Female', 'Female', 'Male', np.nan],\n",
    "    'purchased': ['Yes', 'No', 'Yes', 'No', 'Yes']\n",
    "}\n",
    "df = pd.DataFrame(data)\n",
    "print(\"Original Data:\\n\", df)\n",
    "\n",
    "# Step 3: Separate features and target\n",
    "X = df.drop('purchased', axis=1)\n",
    "y = df['purchased']\n",
    "\n",
    "# Step 4: Define preprocessing for numeric and categorical features\n",
    "numeric_features = ['age', 'salary']\n",
    "numeric_transformer = Pipeline(steps=[\n",
    "    ('imputer', SimpleImputer(strategy='mean')),\n",
    "    ('scaler', StandardScaler())\n",
    "])\n",
    "\n",
    "categorical_features = ['gender']\n",
    "categorical_transformer = Pipeline(steps=[\n",
    "    ('imputer', SimpleImputer(strategy='most_frequent')),\n",
    "    ('encoder', OneHotEncoder(handle_unknown='ignore'))\n",
    "])\n",
    "\n",
    "# Step 5: Combine transformations using ColumnTransformer\n",
    "preprocessor = ColumnTransformer(transformers=[\n",
    "    ('num', numeric_transformer, numeric_features),\n",
    "    ('cat', categorical_transformer, categorical_features)\n",
    "])\n",
    "\n",
    "# Step 6: Apply transformations\n",
    "X_processed = preprocessor.fit_transform(X)\n",
    "\n",
    "# Step 7: Split into training and testing sets\n",
    "X_train, X_test, y_train, y_test = train_test_split(X_processed, y, test_size=0.2, random_state=42)\n",
    "\n",
    "# Step 8: Show results\n",
    "print(\"\\nProcessed Feature Data (X):\\n\", X_processed.toarray() if hasattr(X_processed, \"toarray\") else X_processed)\n",
    "print(\"\\nTrain/Test Split Shapes:\")\n",
    "print(\"X_train:\", X_train.shape)\n",
    "print(\"X_test:\", X_test.shape)\n",
    "print(\"y_train:\", y_train.shape)\n",
    "print(\"y_test:\", y_test.shape)\n"
   ]
  }
 ],
 "metadata": {
  "kernelspec": {
   "display_name": "Python 3",
   "language": "python",
   "name": "python3"
  },
  "language_info": {
   "codemirror_mode": {
    "name": "ipython",
    "version": 3
   },
   "file_extension": ".py",
   "mimetype": "text/x-python",
   "name": "python",
   "nbconvert_exporter": "python",
   "pygments_lexer": "ipython3",
   "version": "3.12.7"
  }
 },
 "nbformat": 4,
 "nbformat_minor": 5
}
