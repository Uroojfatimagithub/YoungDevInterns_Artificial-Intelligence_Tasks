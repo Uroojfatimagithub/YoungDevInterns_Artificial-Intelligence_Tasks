{
 "cells": [
  {
   "cell_type": "code",
   "execution_count": 2,
   "id": "f41ec214",
   "metadata": {},
   "outputs": [
    {
     "name": "stdout",
     "output_type": "stream",
     "text": [
      "Cross-Validation Performance Metrics:\n",
      "accuracy: 0.9533\n",
      "precision_macro: 0.9550\n",
      "recall_macro: 0.9533\n"
     ]
    }
   ],
   "source": [
    "# Step 1: Import libraries\n",
    "from sklearn.datasets import load_iris\n",
    "from sklearn.tree import DecisionTreeClassifier\n",
    "from sklearn.model_selection import cross_validate\n",
    "from sklearn.metrics import make_scorer, accuracy_score, precision_score, recall_score\n",
    "import pandas as pd\n",
    "\n",
    "# Step 2: Load dataset\n",
    "iris = load_iris()\n",
    "X = iris.data\n",
    "y = iris.target\n",
    "\n",
    "# Step 3: Choose a model\n",
    "model = DecisionTreeClassifier(random_state=42)\n",
    "\n",
    "# Step 4: Define scoring metrics\n",
    "scoring = {\n",
    "    'accuracy': make_scorer(accuracy_score),\n",
    "    'precision_macro': make_scorer(precision_score, average='macro'),\n",
    "    'recall_macro': make_scorer(recall_score, average='macro')\n",
    "}\n",
    "\n",
    "# Step 5: Perform 5-fold cross-validation\n",
    "cv_results = cross_validate(model, X, y, cv=5, scoring=scoring)\n",
    "\n",
    "# Step 6: Display the results\n",
    "print(\"Cross-Validation Performance Metrics:\")\n",
    "for metric in scoring.keys():\n",
    "    print(f\"{metric}: {cv_results['test_' + metric].mean():.4f}\")\n"
   ]
  }
 ],
 "metadata": {
  "kernelspec": {
   "display_name": "Python 3",
   "language": "python",
   "name": "python3"
  },
  "language_info": {
   "codemirror_mode": {
    "name": "ipython",
    "version": 3
   },
   "file_extension": ".py",
   "mimetype": "text/x-python",
   "name": "python",
   "nbconvert_exporter": "python",
   "pygments_lexer": "ipython3",
   "version": "3.12.7"
  }
 },
 "nbformat": 4,
 "nbformat_minor": 5
}
